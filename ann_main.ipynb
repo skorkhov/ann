{
 "cells": [
  {
   "cell_type": "code",
   "execution_count": 1,
   "metadata": {
    "collapsed": true,
    "scrolled": false
   },
   "outputs": [],
   "source": [
    "import numpy as np\n",
    "from datetime import datetime\n",
    "from ann_utils import *\n",
    "from ann_structure import *\n",
    "\n",
    "%load_ext autoreload\n",
    "%autoreload 2"
   ]
  },
  {
   "cell_type": "markdown",
   "metadata": {},
   "source": [
    "# Implement the NN:"
   ]
  },
  {
   "cell_type": "code",
   "execution_count": 22,
   "metadata": {
    "collapsed": true
   },
   "outputs": [],
   "source": [
    "def L_layer_model(X, Y, layer_dims, learning_rate =0.05, num_iterations=60, print_cost=True):\n",
    "    \n",
    "    costs = []\n",
    "    \n",
    "    parameters = init_params(layer_dims)\n",
    "    \n",
    "    for i in range(num_iterations):\n",
    "    \n",
    "        # forward pass:\n",
    "        AL, caches = L_forward(X, parameters)\n",
    "\n",
    "        # calculate the cost:\n",
    "        #S = softmax(AL)\n",
    "        cost = cost_total(AL, Y)\n",
    "        costs.append(cost)\n",
    "\n",
    "        # backward pass:\n",
    "        grads = L_backward(AL, Y, caches)\n",
    "        \n",
    "        ### THIS IS WHERE GRADIENT CHECKING WOULD BE\n",
    "        \n",
    "        # update parameters:\n",
    "        parameters = update_parameters(parameters, grads, learning_rate)\n",
    "        \n",
    "        # print the cost:\n",
    "        if print_cost and any([(i+1)%10==0, i == 0]):\n",
    "            print('Cost after ' + str(i + 1) + ' iterations is ' + str(cost) + ' at ' + str(datetime.now()))\n",
    "    \n",
    "    return parameters"
   ]
  },
  {
   "cell_type": "code",
   "execution_count": 66,
   "metadata": {
    "collapsed": true
   },
   "outputs": [],
   "source": [
    "def predict(X, parameters):\n",
    "    \n",
    "    L = len(parameters) // 2\n",
    "    m = X.shape[1]\n",
    "    \n",
    "    AL, caches = L_forward(X, parameters)\n",
    "    \n",
    "    S = AL.copy()\n",
    "    max_prob = np.argmax(S, axis=0)\n",
    "    \n",
    "    #print(max_prob.shape)\n",
    "    \n",
    "    for i in range(m):\n",
    "        S[:, i] = 0\n",
    "        S[max_prob[i], i] = 1\n",
    "    \n",
    "    return S"
   ]
  },
  {
   "cell_type": "code",
   "execution_count": 67,
   "metadata": {
    "collapsed": true
   },
   "outputs": [],
   "source": [
    "def accuracy(Y_hat, Y):\n",
    "    \n",
    "    assert(Y_hat.shape == Y.shape)\n",
    "    \n",
    "    m = Y.shape[1] # number of data entries\n",
    "    \n",
    "    w = 0\n",
    "    c = 0\n",
    "    \n",
    "    A = Y_hat.T\n",
    "    B = Y.T\n",
    "    assert(A.shape == B.shape)\n",
    "    for i in range(Y.shape[1]):\n",
    "        if np.all(A[i] == B[i]):\n",
    "            c += 1\n",
    "        else:\n",
    "            w += 1\n",
    "    \n",
    "    return c/m"
   ]
  },
  {
   "cell_type": "markdown",
   "metadata": {},
   "source": [
    "# Train and Test the NN:"
   ]
  },
  {
   "cell_type": "code",
   "execution_count": 88,
   "metadata": {},
   "outputs": [],
   "source": [
    "X = np.load('data/covtype_train_x.npy')\n",
    "Y = np.load('data/covtype_train_y.npy')"
   ]
  },
  {
   "cell_type": "code",
   "execution_count": 89,
   "metadata": {
    "collapsed": true
   },
   "outputs": [],
   "source": [
    "def standard_score_rescaling(X):\n",
    "    '''\n",
    "    Rescales the features to their Z-score\n",
    "    '''\n",
    "    m = X.shape[1]\n",
    "    mu = (1 / m) * np.sum(X, axis=1, keepdims=True)\n",
    "    \n",
    "    X = X - mu\n",
    "    \n",
    "    sigma = (1 / m) * np.sum(X**2, axis=1, keepdims=True)\n",
    "\n",
    "    X = X / sigma\n",
    "    \n",
    "    return X\n",
    "\n",
    "def feature_rescaling(X):\n",
    "    '''\n",
    "    Rescales the features to the interval [0, 1]\n",
    "    '''\n",
    "    mn = np.min(X, axis=1, keepdims=True)\n",
    "    mx = np.max(X, axis=1, keepdims=True)\n",
    "    \n",
    "    X = (X - mn) / (mx - mn)\n",
    "    \n",
    "    return X"
   ]
  },
  {
   "cell_type": "code",
   "execution_count": 85,
   "metadata": {
    "collapsed": true
   },
   "outputs": [],
   "source": [
    "X = feature_rescaling(X)"
   ]
  },
  {
   "cell_type": "code",
   "execution_count": 86,
   "metadata": {
    "collapsed": true
   },
   "outputs": [],
   "source": [
    "layer_dims = (54, 70, 50, 30, 20, 7)"
   ]
  },
  {
   "cell_type": "code",
   "execution_count": null,
   "metadata": {
    "collapsed": true
   },
   "outputs": [],
   "source": [
    "params = L_layer_model(X, Y, layer_dims, learning_rate =0.1, num_iterations=70)"
   ]
  },
  {
   "cell_type": "code",
   "execution_count": 77,
   "metadata": {},
   "outputs": [],
   "source": [
    "out = predict(X, params)\n",
    "out = out.squeeze()"
   ]
  },
  {
   "cell_type": "code",
   "execution_count": null,
   "metadata": {
    "collapsed": true
   },
   "outputs": [],
   "source": [
    "accuracy(out, Y)"
   ]
  }
 ],
 "metadata": {
  "kernelspec": {
   "display_name": "Python 3",
   "language": "python",
   "name": "python3"
  },
  "language_info": {
   "codemirror_mode": {
    "name": "ipython",
    "version": 3
   },
   "file_extension": ".py",
   "mimetype": "text/x-python",
   "name": "python",
   "nbconvert_exporter": "python",
   "pygments_lexer": "ipython3",
   "version": "3.6.2"
  }
 },
 "nbformat": 4,
 "nbformat_minor": 2
}
