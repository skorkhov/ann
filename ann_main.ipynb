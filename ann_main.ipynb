{
 "cells": [
  {
   "cell_type": "code",
   "execution_count": 1,
   "metadata": {
    "scrolled": false
   },
   "outputs": [],
   "source": [
    "import numpy as np\n",
    "from datetime import datetime\n",
    "from ann_structure import *\n",
    "from gradient_checking import dict_to_vector, approximate_gradient, gradient_difference\n",
    "\n",
    "%load_ext autoreload\n",
    "%autoreload 2"
   ]
  },
  {
   "cell_type": "markdown",
   "metadata": {},
   "source": [
    "# MLP Implementation:"
   ]
  },
  {
   "cell_type": "code",
   "execution_count": 2,
   "metadata": {
    "collapsed": true
   },
   "outputs": [],
   "source": [
    "def L_layer_model(X, Y, layer_dims, learning_rate =0.05, num_iterations=60, print_cost=True, grad_check=False)\n",
    "    \n",
    "    costs = []\n",
    "    \n",
    "    parameters = init_params(layer_dims)\n",
    "    \n",
    "    for i in range(num_iterations):\n",
    "    \n",
    "        # forward pass:\n",
    "        AL, caches = L_forward(X, parameters)\n",
    "\n",
    "        # calculate the cost:\n",
    "        #S = softmax(AL)\n",
    "        cost = cost_total(AL, Y)\n",
    "        costs.append(cost)\n",
    "\n",
    "        # backward pass:\n",
    "        grads = L_backward(AL, Y, caches)\n",
    "            \n",
    "        # (optional) gradient checking:\n",
    "        if grad_check:\n",
    "            grad_approx = approximate_gradient(parameters, X, Y, epsilon=1e-7)\n",
    "            grad_exact, _ = dict_to_vector(grads)\n",
    "            _ = gradient_difference(grad_approx, grad_exact)\n",
    "            \n",
    "        \n",
    "        # update parameters:\n",
    "        parameters = update_parameters(parameters, grads, learning_rate)\n",
    "        \n",
    "        # (optional) print the cost:\n",
    "        if print_cost and any([(i+1)%10==0, i == 0]):\n",
    "            print('Cost after ' + str(i + 1) + ' iterations is ' + str(cost) + ' at ' + str(datetime.now()))\n",
    "    \n",
    "    return parameters"
   ]
  },
  {
   "cell_type": "markdown",
   "metadata": {},
   "source": [
    "## Helper Functions:"
   ]
  },
  {
   "cell_type": "code",
   "execution_count": 3,
   "metadata": {
    "collapsed": true
   },
   "outputs": [],
   "source": [
    "def predict(X, parameters):\n",
    "    \n",
    "    L = len(parameters) // 2\n",
    "    m = X.shape[1]\n",
    "    \n",
    "    AL, caches = L_forward(X, parameters)\n",
    "    \n",
    "    S = AL.copy()\n",
    "    max_prob = np.argmax(S, axis=0)\n",
    "        \n",
    "    for i in range(m):\n",
    "        S[:, i] = 0\n",
    "        S[max_prob[i], i] = 1\n",
    "    \n",
    "    return S\n",
    "\n",
    "\n",
    "def accuracy(Y_hat, Y):\n",
    "    \n",
    "    assert(Y_hat.shape == Y.shape)\n",
    "    \n",
    "    m = Y.shape[1] # number of data entries\n",
    "    \n",
    "    w = 0\n",
    "    c = 0\n",
    "    \n",
    "    A = Y_hat.T\n",
    "    B = Y.T\n",
    "    assert(A.shape == B.shape)\n",
    "    for i in range(Y.shape[1]):\n",
    "        if np.all(A[i] == B[i]):\n",
    "            c += 1\n",
    "        else:\n",
    "            w += 1\n",
    "    \n",
    "    return c/m"
   ]
  },
  {
   "cell_type": "code",
   "execution_count": 6,
   "metadata": {
    "collapsed": true
   },
   "outputs": [],
   "source": [
    "def standard_score_rescaling(X):\n",
    "    '''\n",
    "    Rescales the features to their Z-score\n",
    "    '''\n",
    "    m = X.shape[1]\n",
    "    mu = (1 / m) * np.sum(X, axis=1, keepdims=True)\n",
    "    \n",
    "    X = X - mu\n",
    "    \n",
    "    sigma = X.var(axis=1, keepdims=True)\n",
    "\n",
    "    X = X / np.sqrt(sigma)\n",
    "    \n",
    "    return X\n",
    "\n",
    "def feature_rescaling(X):\n",
    "    '''\n",
    "    Rescales the features to the interval [0, 1]\n",
    "    '''\n",
    "    mn = np.min(X, axis=1, keepdims=True)\n",
    "    mx = np.max(X, axis=1, keepdims=True)\n",
    "    \n",
    "    X = (X - mn) / (mx - mn)\n",
    "    \n",
    "    return X"
   ]
  },
  {
   "cell_type": "markdown",
   "metadata": {},
   "source": [
    "# Train and Test:"
   ]
  },
  {
   "cell_type": "code",
   "execution_count": 5,
   "metadata": {
    "collapsed": true
   },
   "outputs": [],
   "source": [
    "X = np.load('data/covtype_train_x.npy')\n",
    "Y = np.load('data/covtype_train_y.npy')"
   ]
  },
  {
   "cell_type": "code",
   "execution_count": 10,
   "metadata": {
    "collapsed": true
   },
   "outputs": [],
   "source": [
    "X = feature_rescaling(X)\n",
    "layer_dims = (54, 70, 50, 30, 20, 7)"
   ]
  },
  {
   "cell_type": "code",
   "execution_count": 16,
   "metadata": {},
   "outputs": [
    {
     "name": "stdout",
     "output_type": "stream",
     "text": [
      "Cost after 1 iterations is 1.94591006325 at 2017-10-03 02:05:13.166365\n",
      "Cost after 10 iterations is 1.85873125848 at 2017-10-03 02:05:48.674808\n",
      "Cost after 20 iterations is 1.770083581 at 2017-10-03 02:06:29.594596\n",
      "Cost after 30 iterations is 1.69004439826 at 2017-10-03 02:07:03.975002\n",
      "Cost after 40 iterations is 1.61841004275 at 2017-10-03 02:07:37.443073\n"
     ]
    }
   ],
   "source": [
    "params = L_layer_model(X, Y, layer_dims, learning_rate =0.05, num_iterations=40)"
   ]
  },
  {
   "cell_type": "code",
   "execution_count": 77,
   "metadata": {
    "collapsed": true
   },
   "outputs": [],
   "source": [
    "out = predict(X, params)\n",
    "out = out.squeeze()\n",
    "accuracy(out, Y)"
   ]
  }
 ],
 "metadata": {
  "kernelspec": {
   "display_name": "Python 3",
   "language": "python",
   "name": "python3"
  },
  "language_info": {
   "codemirror_mode": {
    "name": "ipython",
    "version": 3
   },
   "file_extension": ".py",
   "mimetype": "text/x-python",
   "name": "python",
   "nbconvert_exporter": "python",
   "pygments_lexer": "ipython3",
   "version": "3.6.2"
  }
 },
 "nbformat": 4,
 "nbformat_minor": 2
}
