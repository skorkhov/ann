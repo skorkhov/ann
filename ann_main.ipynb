{
 "cells": [
  {
   "cell_type": "code",
   "execution_count": null,
   "metadata": {
    "collapsed": true
   },
   "outputs": [],
   "source": [
    "import numpy as np\n",
    "from datetime import datetime\n",
    "from ann_structure import *\n",
    "from gradient_checking import dict_to_vector, approximate_gradient, gradient_difference, vector_to_dict\n",
    "\n",
    "%load_ext autoreload\n",
    "%autoreload 2"
   ]
  },
  {
   "cell_type": "markdown",
   "metadata": {},
   "source": [
    "## Helper functions:"
   ]
  },
  {
   "cell_type": "code",
   "execution_count": null,
   "metadata": {
    "collapsed": true
   },
   "outputs": [],
   "source": [
    "def predict(X, parameters):\n",
    "    \n",
    "    L = len(parameters) // 2\n",
    "    m = X.shape[1]\n",
    "    \n",
    "    AL, caches = L_forward(X, parameters)\n",
    "    \n",
    "    S = AL.copy()\n",
    "    max_prob = np.argmax(S, axis=0)\n",
    "        \n",
    "    for i in range(m):\n",
    "        S[:, i] = 0\n",
    "        S[max_prob[i], i] = 1\n",
    "    \n",
    "    return S\n",
    "\n",
    "\n",
    "def accuracy(Y_hat, Y):\n",
    "    \n",
    "    assert(Y_hat.shape == Y.shape)\n",
    "    \n",
    "    m = Y.shape[1] # number of data entries\n",
    "    \n",
    "    w = 0\n",
    "    c = 0\n",
    "    \n",
    "    A = Y_hat.T\n",
    "    B = Y.T\n",
    "    assert(A.shape == B.shape)\n",
    "    for i in range(Y.shape[1]):\n",
    "        if np.all(A[i] == B[i]):\n",
    "            c += 1\n",
    "        else:\n",
    "            w += 1\n",
    "    \n",
    "    return c/m\n",
    "\n",
    "\n",
    "def standard_score_rescaling(X):\n",
    "    '''\n",
    "    Rescales the features to their Z-score\n",
    "    '''\n",
    "    m = X.shape[1]\n",
    "    mu = (1 / m) * np.sum(X, axis=1, keepdims=True)\n",
    "    \n",
    "    X = X - mu\n",
    "    \n",
    "    sigma = X.var(axis=1, keepdims=True)\n",
    "\n",
    "    X = X / np.sqrt(sigma)\n",
    "    \n",
    "    return X\n",
    "\n",
    "def feature_rescaling(X):\n",
    "    '''\n",
    "    Rescales the features to the interval [0, 1]\n",
    "    '''\n",
    "    mn = np.min(X, axis=1, keepdims=True)\n",
    "    mx = np.max(X, axis=1, keepdims=True)\n",
    "    \n",
    "    X = (X - mn) / (mx - mn)\n",
    "    \n",
    "    return X"
   ]
  },
  {
   "cell_type": "markdown",
   "metadata": {},
   "source": [
    "# MLP Implementation:"
   ]
  },
  {
   "cell_type": "code",
   "execution_count": null,
   "metadata": {
    "collapsed": true
   },
   "outputs": [],
   "source": [
    "def L_layer_model(X, Y, layer_dims, learning_rate =0.05, num_iterations=60, print_cost=True, grad_check=False):\n",
    "    \n",
    "    costs = []\n",
    "    \n",
    "    parameters = init_params(layer_dims, kind='small')\n",
    "    \n",
    "    for i in range(num_iterations):\n",
    "    \n",
    "        # forward pass:\n",
    "        AL, caches = L_forward(X, parameters)\n",
    "\n",
    "        # calculate the cost:\n",
    "        cost = cost_total(AL, Y)\n",
    "        costs.append(cost)\n",
    "\n",
    "        # backward pass:\n",
    "        grads = L_backward(AL, Y, caches)\n",
    "            \n",
    "        # (optional) gradient checking:\n",
    "        #if grad_check:\n",
    "        #    grad_approx = approximate_gradient(parameters, X, Y, epsilon=1e-7)\n",
    "        #    grad_exact, _ = dict_to_vector(grads)\n",
    "        #    dif = gradient_difference(grad_approx, grad_exact)\n",
    "            \n",
    "        \n",
    "        # update parameters:\n",
    "        parameters = update_parameters(parameters, grads, learning_rate)\n",
    "        \n",
    "        # (optional) print the cost:\n",
    "        if print_cost and any([(i+1)%10==0, i == 0]):\n",
    "            print('Cost after ' + str(i + 1) + ' iterations is ' + str(cost) + ' at ' + str(datetime.now()))\n",
    "    \n",
    "    return parameters"
   ]
  },
  {
   "cell_type": "markdown",
   "metadata": {},
   "source": [
    "# Train and Test:"
   ]
  },
  {
   "cell_type": "code",
   "execution_count": 24,
   "metadata": {
    "collapsed": true
   },
   "outputs": [],
   "source": [
    "X = np.load('data/covtype_train_x.npy')\n",
    "Y = np.load('data/covtype_train_y.npy')"
   ]
  },
  {
   "cell_type": "code",
   "execution_count": 28,
   "metadata": {
    "collapsed": true
   },
   "outputs": [],
   "source": [
    "layer_dims = (54, 100, 70, 70, 50, 30, 20, 10, 7)"
   ]
  },
  {
   "cell_type": "code",
   "execution_count": null,
   "metadata": {
    "collapsed": true
   },
   "outputs": [],
   "source": [
    "params = L_layer_model(X, Y, layer_dims, learning_rate =0.3, num_iterations=1000, print_cost=True, grad_check=False)"
   ]
  },
  {
   "cell_type": "code",
   "execution_count": null,
   "metadata": {
    "collapsed": true
   },
   "outputs": [],
   "source": [
    "AL, _ = L_forward(X, params)\n",
    "\n",
    "for i in range(AL.shape[1]):\n",
    "    AL[:, i][AL[:, i] < np.max(AL[:, i])] = 0\n",
    "    AL[:, i][AL[:, i] == np.max(AL[:, i])] = 1\n",
    "\n",
    "AL"
   ]
  },
  {
   "cell_type": "code",
   "execution_count": null,
   "metadata": {
    "collapsed": true
   },
   "outputs": [],
   "source": [
    "np.all(AL[1, :])"
   ]
  },
  {
   "cell_type": "code",
   "execution_count": null,
   "metadata": {
    "collapsed": true
   },
   "outputs": [],
   "source": [
    "out = predict(X, params)\n",
    "out = out.squeeze()\n",
    "a2 = accuracy(out, Y)"
   ]
  },
  {
   "cell_type": "code",
   "execution_count": null,
   "metadata": {
    "collapsed": true
   },
   "outputs": [],
   "source": [
    "a1, a2"
   ]
  }
 ],
 "metadata": {
  "kernelspec": {
   "display_name": "Python 3",
   "language": "python",
   "name": "python3"
  },
  "language_info": {
   "codemirror_mode": {
    "name": "ipython",
    "version": 3
   },
   "file_extension": ".py",
   "mimetype": "text/x-python",
   "name": "python",
   "nbconvert_exporter": "python",
   "pygments_lexer": "ipython3",
   "version": "3.6.2"
  }
 },
 "nbformat": 4,
 "nbformat_minor": 2
}
